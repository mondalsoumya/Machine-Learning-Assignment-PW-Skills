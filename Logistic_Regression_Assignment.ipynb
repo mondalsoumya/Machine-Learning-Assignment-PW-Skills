{
  "nbformat": 4,
  "nbformat_minor": 0,
  "metadata": {
    "colab": {
      "provenance": []
    },
    "kernelspec": {
      "name": "python3",
      "display_name": "Python 3"
    },
    "language_info": {
      "name": "python"
    }
  },
  "cells": [
    {
      "cell_type": "markdown",
      "source": [
        "# **Logistic Regression Assignment:**\n"
      ],
      "metadata": {
        "id": "hOkI6syG5IFm"
      }
    },
    {
      "cell_type": "markdown",
      "source": [
        "##Question 1 : **What is Simple Linear Regression (SLR)? Explain its purpose.**\n",
        "\n",
        "**Answer:**\n",
        "\n",
        "**Simple Linear Regression (SLR)** is a statistical method used to study the relationship between two variables —\n",
        "one independent variable (X), and one dependent variable (Y).\n",
        "\n",
        "It tries to fit a straight line (called the regression line) through the data points so that it best predicts the value of Y based on X.\n",
        "\n",
        "Equation of SLR: **Y=a+bX**\n",
        "\n",
        "Where:\n",
        "\n",
        "Y → Dependent variable (the one we want to predict)\n",
        "\n",
        "X → Independent variable (the predictor)\n",
        "\n",
        "a → Intercept (value of Y when X = 0)\n",
        "\n",
        "b → Slope (change in Y for each unit change in X)\n",
        "\n",
        "**Purpose of Simple Linear Regression:**\n",
        "\n",
        "- **Prediction:** To predict the value of one variable (Y) based on another variable (X).\n",
        "Example: Predicting house price (Y) based on size of the house (X).\n",
        "\n",
        "- **Understanding Relationships:** To understand how strongly two variables are related and whether the relationship is positive or negative.\n",
        "\n",
        "- **Trend Analysis:** To find patterns or trends in data — for example, how sales increase with advertising spend."
      ],
      "metadata": {
        "id": "fMZGooOF7WX0"
      }
    },
    {
      "cell_type": "markdown",
      "source": [
        "## Question 2: **What are the key assumptions of Simple Linear Regression?**\n",
        "\n",
        "**Answer:**\n",
        "\n",
        "\n",
        "\n",
        "- **Linearity:** Relationship between 𝑋 and 𝑌 is linear.\n",
        "\n",
        "- **Independence:** Observations are independent of each other.\n",
        "\n",
        "- **Homoscedasticity:** Constant variance of residuals across all values of 𝑋.\n",
        "\n",
        "- **Normality of Errors:** Residuals (errors) are normally distributed.\n",
        "\n",
        "- **No Multicollinearity:** Not applicable in simple regression (only one predictor)."
      ],
      "metadata": {
        "id": "ofy6-eae8yZg"
      }
    },
    {
      "cell_type": "markdown",
      "source": [
        "## Question 3: **Write the mathematical equation for a simple linear regression model and explain each term.**\n",
        "\n",
        "**Answer:**\n",
        "Yi​=β0+β1​Xi​+εi​\n",
        "\n",
        "| **Term**          | **Meaning**                        | **Explanation**                                                                                                                             |\n",
        "| ----------------- | ---------------------------------- | ------------------------------------------------------------------------------------------------------------------------------------------- |\n",
        "| ( Y_i )           | **Dependent Variable**             | The actual (observed) value of the variable we want to predict — e.g., marks, price, salary.                                                |\n",
        "| ( X_i )           | **Independent Variable**           | The predictor variable used to estimate or explain changes in ( Y_i ).                                                                      |\n",
        "| ( β0 )       | **Intercept**                      | The value of ( Y ) when ( X = 0 ). It represents where the regression line crosses the Y-axis.                                              |\n",
        "| ( β1 )       | **Slope (Regression Coefficient)** | Shows how much ( Y ) changes when ( X ) increases by one unit. It represents the strength and direction of the relationship.                |\n",
        "| ( ɛ) | **Error Term (Residual)**          | The difference between the actual value ( Y_i ) and the predicted value (\\hat{Y_i}). It accounts for random noise or unexplained variation. |\n"
      ],
      "metadata": {
        "id": "g5_Q3_e989Yf"
      }
    },
    {
      "cell_type": "markdown",
      "source": [
        "## Question 4: **Provide a real-world example where simple linear regression can be applied.**\n",
        "\n",
        "**Answer:**\n",
        "\n",
        "**Real-World Example of Simple Linear Regression (SLR):**\n",
        "\n",
        "**Example: Predicting House Prices Based on Size**\n",
        "A real estate analyst wants to predict the price of a house (Y) based on its size in square feet (X).\n",
        "\n",
        "He collects the following data:\n",
        "\n",
        "| House Size (sq.ft) | Price (₹ in lakhs) |\n",
        "| ------------------ | ------------------ |\n",
        "| 1000               | 50                 |\n",
        "| 1500               | 65                 |\n",
        "| 2000               | 80                 |\n",
        "| 2500               | 95                 |\n",
        "| 3000               | 110                |\n",
        "\n",
        "\n",
        "Applying Simple Linear Regression:\n",
        "\n",
        "We assume a linear relationship:\n",
        "\n",
        "Y= 𝛽0+𝛽1X+ɛ\n",
        "\n",
        "After fitting the data using Python, suppose we get the model:\n",
        "Y= 20+0.03X\n",
        "\n",
        "**Interpretation:**\n",
        "- **Intercept** (𝛽0=20) → Even if the house size were 0 sq.ft, the base price starts at ₹20 lakh (fixed cost, land value, etc.).\n",
        "\n",
        "- **Slope** (𝛽1=0.03) → For every 1 sq.ft increase in house size, the price increases by ₹0.03 lakh (₹3,000)."
      ],
      "metadata": {
        "id": "p0C__1PN9Jy3"
      }
    },
    {
      "cell_type": "markdown",
      "source": [
        "## Question 5: **What is the method of least squares in linear regression?**\n",
        "\n",
        "**Answer:**\n",
        "\n",
        "The method of least squares is a mathematical technique used to find the best-fitting line in linear regression.\n",
        "It works by minimizing the sum of the squares of the errors (residuals) between the observed values and the predicted values.\n",
        "\n",
        "In simple words:It finds the line that makes the total prediction error as small as possible.\n",
        "\n"
      ],
      "metadata": {
        "id": "xmIhn57r9TK3"
      }
    },
    {
      "cell_type": "markdown",
      "source": [
        "## Question 6: **What is Logistic Regression? How does it differ from Linear Regression?**\n",
        "\n",
        "**Answer:**\n",
        "\n",
        "- **Logistic Regression** is a statistical model used for binary classification problems — that is, problems where the outcome variable has two possible values (e.g., yes/no, 0/1, true/false). It predicts the probability that a given input belongs to a particular category.\n",
        "\n",
        "| **Feature**           | **Linear Regression**                               | **Logistic Regression**                               |\n",
        "| --------------------- | --------------------------------------------------- | ----------------------------------------------------- |\n",
        "| **Purpose**           | Predicts **continuous values** (e.g., price, marks) | Predicts **categorical outcomes** (e.g., yes/no, 0/1) |\n",
        "| **Output**            | Any real number (−∞ to +∞)                          | Probability (between 0 and 1)                         |\n",
        "| **Equation**          | ( y = β₀ + β₁x + ... + βₙxₙX )                         | (P = 1 / (1 + e^-(β₀ + β₁x)))|\n",
        "| **Error Measurement** | Uses Mean Squared Error (MSE)                  | Uses Log Loss (Cross-Entropy)                     |\n",
        "| **Line Type**         | Straight Line                                       | S-shaped Sigmoid Curve                            |\n",
        "| **Used For**          | Regression problems                                 | Classification problems                               |\n"
      ],
      "metadata": {
        "id": "n3ehH5h39ato"
      }
    },
    {
      "cell_type": "markdown",
      "source": [
        "## Question 7: **Name and briefly describe three common evaluation metrics for regression models.**\n",
        "\n",
        "**Answer:**\n",
        "\n",
        "When we build a regression model (like Linear Regression), we need to measure how well it predicts continuous outcomes.\n",
        "Here are three widely used evaluation metrics:\n",
        "\n",
        " **1. Mean Absolute Error (MAE)**\n",
        " MAE=n1​i=1∑n​∣Yi​−Yi​^​∣\n",
        "\n",
        "- Description:\n",
        "It measures the average of the absolute differences between the actual values and the predicted values.\n",
        "\n",
        "- Interpretation:\n",
        "Smaller MAE → better accuracy.\n",
        "\n",
        "- Easy to understand because it uses the same units as the target variable.\n",
        "\n",
        "**Example:**\n",
        "If MAE = 5, it means predictions are off by 5 units on average.\n",
        "\n",
        "**2. Mean Squared Error (MSE)** MSE=n1​i=1∑n​(Yi​−Yi​^​)2\n",
        "\n",
        "- Description:\n",
        "It measures the average of the squared differences between actual and predicted values.\n",
        "\n",
        "- Interpretation:\n",
        "  - Penalizes larger errors more heavily because the errors are squared.\n",
        "  - Useful when you want to emphasize big mistakes.\n",
        "\n",
        "**3. R-squared (Coefficient of Determination)** R²=1−∑(Yi​−Yˉ)2∑(Yi​−Yi​^​)2​\n",
        "\n",
        "Description:\n",
        "It shows how much of the variation in the dependent variable (Y) is explained by the model.\n",
        "\n",
        "**Interpretation:**\n",
        "R² ranges from 0 to 1.\n",
        "R² = 1: perfect prediction\n",
        "R² = 0: model explains none of the variation\n",
        "\n"
      ],
      "metadata": {
        "id": "Pq0NGf1K9g_P"
      }
    },
    {
      "cell_type": "markdown",
      "source": [
        "## Question 8: **What is the purpose of the R-squared metric in regression analysis?**\n",
        "\n",
        "**Answer:**\n",
        "\n",
        "**R-squared (R²)** — also called the Coefficient of Determination — is a statistical measure that tells us how well a regression model explains the variability of the dependent variable (Y) using the independent variable(s) (X).\n",
        "\n",
        "**Purpose**\n",
        "- It measures the goodness of fit of a regression model.\n",
        "\n",
        "- In simple terms, it shows how much of the variation in the output (Y) is explained by the input (X)."
      ],
      "metadata": {
        "id": "j43BCNlD9pVX"
      }
    },
    {
      "cell_type": "markdown",
      "source": [
        "## Question 9: **Write Python code to fit a simple linear regression model using scikit-learn and print the slope and intercept.**\n",
        "\n",
        "**Answer:**"
      ],
      "metadata": {
        "id": "RAPBHdLR9vDY"
      }
    },
    {
      "cell_type": "code",
      "source": [
        "# Requires: scikit-learn, numpy\n",
        "\n",
        "import numpy as np\n",
        "from sklearn.linear_model import LinearRegression\n",
        "\n",
        "# Example data (x: feature, y: target)\n",
        "x = np.array([1, 2, 3, 4, 5])        # shape (n_samples,)\n",
        "y = np.array([2.1, 3.9, 6.0, 8.1, 10.2])  # shape (n_samples,)\n",
        "\n",
        "# scikit-learn expects 2D array for features\n",
        "X = x.reshape(-1, 1)  # shape (n_samples, 1)\n",
        "\n",
        "# Create and fit the model\n",
        "model = LinearRegression()\n",
        "model.fit(X, y)\n",
        "\n",
        "# Extract slope (coefficient) and intercept\n",
        "slope = model.coef_[0]\n",
        "intercept = model.intercept_\n",
        "\n",
        "print(f\"Slope (coefficient): {slope}\")\n",
        "print(f\"Intercept: {intercept}\")"
      ],
      "metadata": {
        "colab": {
          "base_uri": "https://localhost:8080/"
        },
        "id": "6vG6yykm9-9B",
        "outputId": "99d4558f-ac70-4d63-9e60-268e9645ffc3"
      },
      "execution_count": 2,
      "outputs": [
        {
          "output_type": "stream",
          "name": "stdout",
          "text": [
            "Slope (coefficient): 2.0399999999999996\n",
            "Intercept: -0.05999999999999872\n"
          ]
        }
      ]
    },
    {
      "cell_type": "markdown",
      "source": [
        "## Question 10: **How do you interpret the coefficients in a simple linear regression model?**\n",
        "\n",
        "**Answer:**\n",
        "\n",
        "A simple linear regression model is expressed as: Y= β0 + β1X + ɛ\n",
        "\n",
        "Where:\n",
        "\n",
        "- Y: Dependent variable (what we want to predict)\n",
        "- X: Independent variable (predictor)\n",
        "- β0: Intercept\n",
        "- β1: Slope (coefficient of X)\n",
        "- ɛ: Error term\n",
        "\n",
        "**1. Intercept (β0)- \"Starting point\"**\n",
        "It represents the predicted value of Y when X = 0\n",
        "\n",
        "In other words, it’s where the regression line crosses the Y-axis.\n",
        "\n",
        "Example:\n",
        "If the equation is-  Y= 30 + 10X\n",
        "\n",
        "then\n",
        "𝛽0=30 When\n",
        "X=0 the predicted value of Y is 30.\n",
        "\n",
        "**2. Slope (β1)- \"Rate of Change\"**\n",
        "- It shows how much Y changes when X increases by one unit, keeping all else constant.\n",
        "\n",
        "- It also indicates the direction of the relationship:\n",
        "  - If β1> 0 : Positive relationship (Y increases as X increases)\n",
        "  - If β1< 0 : Negative relationship (Y decreases as X increases)\n",
        "\n",
        "xample:\n",
        "If β1=10,\n",
        "For every 1-unit increase in X, Y increases by 10 units on average."
      ],
      "metadata": {
        "id": "B2790c7H96aP"
      }
    }
  ]
}